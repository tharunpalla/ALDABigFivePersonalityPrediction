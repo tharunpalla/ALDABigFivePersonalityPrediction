{
 "cells": [
  {
   "cell_type": "code",
   "execution_count": null,
   "metadata": {
    "pycharm": {
     "is_executing": true,
     "name": "#%%\n"
    }
   },
   "outputs": [],
   "source": [
    "import pandas as pd\n",
    "\n",
    "a=pd.read_csv(\"data-final.csv\", sep='\\t')\n",
    "\n",
    "b=[]\n",
    "for i in a.columns:\n",
    "    b.append(i)\n",
    "\n",
    "from sklearn.cluster import KMeans\n",
    "\n",
    "for i in b[50:]:\n",
    "    a = a.drop(i, axis=1)\n",
    "\n",
    "a.dropna(inplace=True)\n",
    "print('Number of participants after eliminating missing values: ', len(a))\n",
    "\n",
    "kmeans = KMeans(n_clusters=5)\n",
    "k_fit = kmeans.fit(a)\n",
    "\n",
    "print('Is there any missing value? ', a.isnull().values.any())\n",
    "print('How many missing values? ', a.isnull().values.sum())\n",
    "\n",
    "pd.options.display.max_columns = 10\n",
    "predictions = k_fit.labels_\n",
    "a['Clusters'] = predictions\n",
    "a.head()\n",
    "\n",
    "col_list = list(a)\n",
    "ext = col_list[0:10]\n",
    "est = col_list[10:20]\n",
    "agr = col_list[20:30]\n",
    "csn = col_list[30:40]\n",
    "opn = col_list[40:50]\n",
    "\n",
    "data_sums = pd.DataFrame()\n",
    "data_sums['extroversion'] = a[ext].sum(axis=1)/10\n",
    "data_sums['neurotic'] = a[est].sum(axis=1)/10\n",
    "data_sums['agreeable'] = a[agr].sum(axis=1)/10\n",
    "data_sums['conscientious'] = a[csn].sum(axis=1)/10\n",
    "data_sums['open'] = a[opn].sum(axis=1)/10\n",
    "data_sums['clusters'] = predictions\n",
    "data_sums.groupby('clusters').mean()\n",
    "\n",
    "from sklearn.decomposition import PCA\n",
    "\n",
    "pca = PCA(n_components=2)\n",
    "pca_fit = pca.fit_transform(a)\n",
    "\n",
    "df_pca = pd.DataFrame(data=pca_fit, columns=['PCA1', 'PCA2'])\n",
    "df_pca['Clusters'] = predictions\n",
    "df_pca.head()\n",
    "\n",
    "df_pca.to_csv('pca.csv')\n",
    "\n",
    "import matplotlib.pyplot as plt\n",
    "import seaborn as sns\n",
    "\n",
    "# ax = plt.subplot(111)\n",
    "plt.figure(figsize=(10,10))\n",
    "fig=sns.scatterplot(data=df_pca, x='PCA1', y='PCA2', hue='Clusters', palette='tab10', alpha=0.8)\n",
    "\n",
    "# plt.scatter(x=df_pca['PCA1'], y=df_pca['PCA2'])\n",
    "plt.title('Personality Clusters after PCA');\n",
    "\n",
    "import pickle\n",
    "pickle.dump(k_fit, open('kmeans.pkl', 'wb'))"
   ]
  },
  {
   "cell_type": "code",
   "execution_count": null,
   "metadata": {},
   "outputs": [],
   "source": []
  }
 ],
 "metadata": {
  "kernelspec": {
   "display_name": "Python 3 (ipykernel)",
   "language": "python",
   "name": "python3"
  },
  "language_info": {
   "codemirror_mode": {
    "name": "ipython",
    "version": 3
   },
   "file_extension": ".py",
   "mimetype": "text/x-python",
   "name": "python",
   "nbconvert_exporter": "python",
   "pygments_lexer": "ipython3",
   "version": "3.9.0"
  }
 },
 "nbformat": 4,
 "nbformat_minor": 1
}